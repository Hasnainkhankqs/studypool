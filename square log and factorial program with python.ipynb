{
  "nbformat": 4,
  "nbformat_minor": 0,
  "metadata": {
    "colab": {
      "name": "for studypool website.ipynb",
      "provenance": []
    },
    "kernelspec": {
      "name": "python3",
      "display_name": "Python 3"
    },
    "language_info": {
      "name": "python"
    }
  },
  "cells": [
    {
      "cell_type": "code",
      "source": [
        "# Function to find square root of a number\n",
        "def sqrt():\n",
        "  val = input(\"Please write a number to be squared: \")\n",
        "  try:\n",
        "    val = int(val)\n",
        "  except ValueError:\n",
        "    print(f\"{val} is not a valid integer. Please try again.\")\n",
        "    return sqrt()\n",
        "\n",
        "  squrednum = val * val\n",
        "  print(\"The square of \" f\"{val} is\" , squrednum)"
      ],
      "metadata": {
        "id": "VHkevQ1R2N1I"
      },
      "execution_count": 72,
      "outputs": []
    },
    {
      "cell_type": "code",
      "source": [
        "# Function to find log of a number\n",
        "import math\n",
        "def logfunc():\n",
        "  val = input(\"Please write a number to find log: \")\n",
        "  try:\n",
        "    val = int(val)\n",
        "  except ValueError:\n",
        "    print(f\"{val} is not a valid integer. Please try again.\")\n",
        "    return logfunc()\n",
        "\n",
        "  logofval = math.log10(val)\n",
        "  print(\"The log of \" f\"{val} on base 10 is\" , logofval)"
      ],
      "metadata": {
        "id": "8Rr06HnA4zVF"
      },
      "execution_count": 73,
      "outputs": []
    },
    {
      "cell_type": "code",
      "source": [
        "# Function to find factorial of a number\n",
        "def fact():\n",
        "    val = input(\"Please write a number to find factorial: \")\n",
        "    try:\n",
        "      val = int(val)\n",
        "    except ValueError:\n",
        "      print(f\"{val} is not a valid integer. Please try again.\")\n",
        "      return fact()\n",
        "    factorialnumresult = factorialfunc(val)\n",
        "    print(\"The factorial of\", f\"{val} is\", factorialnumresult)\n",
        "\n",
        "def factorialfunc(val):\n",
        "\n",
        "    if val == 0:\n",
        "        return 1\n",
        "    elif val == 1:\n",
        "       return 1\n",
        "    else:\n",
        "        return (val * factorialfunc(val-1))"
      ],
      "metadata": {
        "id": "4xpdL5T96GPp"
      },
      "execution_count": 74,
      "outputs": []
    },
    {
      "cell_type": "code",
      "source": [
        "\n",
        "def startprogram():\n",
        "  print(\"Welcome to the simple math helper.\\nWhat would you like to calculate?\")\n",
        "  print(\"1. Sqrt\\n2. Log\\n3. Factorial\")\n",
        "  val = input(\"Enter your value: \")\n",
        "\n",
        "  try:\n",
        "    val = int(val)\n",
        "  except ValueError:\n",
        "    print(f\"{val} is not a valid integer. Please try again.\")\n",
        "    return startprogram()\n",
        "\n",
        "  if(val == 1):\n",
        "    sqrt()\n",
        "  elif(val == 2):\n",
        "    logfunc()\n",
        "  elif(val == 3):\n",
        "    fact()\n",
        "  else:\n",
        "    print(\"Please choose only 1, 2 or 3\")\n",
        "    return startprogram()"
      ],
      "metadata": {
        "id": "pi3jLX2oyxP4"
      },
      "execution_count": 81,
      "outputs": []
    },
    {
      "cell_type": "code",
      "source": [
        "startprogram()"
      ],
      "metadata": {
        "colab": {
          "base_uri": "https://localhost:8080/"
        },
        "id": "B0P-d-BTzc6l",
        "outputId": "bbd692c2-c774-4eec-e2cd-4309aeeef599"
      },
      "execution_count": 82,
      "outputs": [
        {
          "output_type": "stream",
          "name": "stdout",
          "text": [
            "Welcome to the simple math helper.\n",
            "What would you like to calculate?\n",
            "1. Sqrt\n",
            "2. Log\n",
            "3. Factorial\n",
            "Enter your value: 4\n",
            "Please choose only 1, 2 or 3\n",
            "Welcome to the simple math helper.\n",
            "What would you like to calculate?\n",
            "1. Sqrt\n",
            "2. Log\n",
            "3. Factorial\n",
            "Enter your value: 1\n",
            "Please write a number to be squared: 2\n",
            "The square of 2 is 4\n"
          ]
        }
      ]
    },
    {
      "cell_type": "code",
      "source": [
        ""
      ],
      "metadata": {
        "id": "__fZdHkt-tuz"
      },
      "execution_count": 76,
      "outputs": []
    }
  ]
}